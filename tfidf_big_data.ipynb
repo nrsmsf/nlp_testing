{
 "cells": [
  {
   "cell_type": "code",
   "execution_count": 1,
   "id": "equivalent-latin",
   "metadata": {},
   "outputs": [
    {
     "name": "stdout",
     "output_type": "stream",
     "text": [
      "/Users/andrew/nlp_project/ners notebooks\n"
     ]
    }
   ],
   "source": [
    "from tokenizingnew import cleaning_and_tokenize\n",
    "from tfidf import tf_idf_func\n",
    "from pathlib import Path\n",
    "\n",
    "from mpl_toolkits.mplot3d import Axes3D\n",
    "from sklearn.preprocessing import scale\n",
    "\n",
    "import sklearn\n",
    "from sklearn.cluster import KMeans\n",
    "import sklearn.metrics as sm\n",
    "from sklearn.metrics import confusion_matrix, classification_report\n",
    "\n",
    "import re\n",
    "import pandas as pd\n",
    "import numpy as np\n",
    "import matplotlib.pyplot as plt\n",
    "import langdetect"
   ]
  },
  {
   "cell_type": "code",
   "execution_count": 2,
   "id": "derived-absolute",
   "metadata": {
    "tags": []
   },
   "outputs": [],
   "source": [
    "data_path = Path(\"./data/\")\n",
    "my_file = data_path/\"real_but_test_data.xlsx\""
   ]
  },
  {
   "cell_type": "code",
   "execution_count": 3,
   "id": "complicated-detector",
   "metadata": {
    "tags": []
   },
   "outputs": [],
   "source": [
    "df = pd.read_excel(my_file, dtype=str)\n",
    "\n"
   ]
  },
  {
   "cell_type": "code",
   "execution_count": 4,
   "id": "afraid-philip",
   "metadata": {},
   "outputs": [],
   "source": [
    "df.drop(columns=['ServiceCI', 'ServiceReconID', 'Categorization_Tier_1', 'Categorization_Tier_2', \n",
    "                 'Categorization_Tier_3' , 'SubmitDate', 'incidenType', 'Organization',\n",
    "                 'Customer_Email', 'JobTitle', 'Site'\n",
    "                ], inplace=True)\n"
   ]
  },
  {
   "cell_type": "code",
   "execution_count": 5,
   "id": "meaningful-accident",
   "metadata": {},
   "outputs": [],
   "source": [
    "df[\"fulltext\"] = df[\"Description\"] + \" \" + df[\"Detailed_Decription\"]\n"
   ]
  },
  {
   "cell_type": "code",
   "execution_count": 6,
   "id": "satisfactory-springer",
   "metadata": {},
   "outputs": [
    {
     "name": "stdout",
     "output_type": "stream",
     "text": [
      "Определен русский язык.\n",
      "\n",
      "\n",
      "Определен русский язык.\n",
      "\n",
      "\n",
      "Определен английский язык.\n",
      "\n",
      "\n",
      "Определен русский язык.\n",
      "\n",
      "\n",
      "Определен русский язык.\n",
      "\n",
      "\n",
      "Определен русский язык.\n",
      "\n",
      "\n",
      "Определен английский язык.\n",
      "\n",
      "\n",
      "Определен английский язык.\n",
      "\n",
      "\n",
      "Определен английский язык.\n",
      "\n",
      "\n",
      "Определен английский язык.\n",
      "\n",
      "\n",
      "Определен английский язык.\n",
      "\n",
      "\n",
      "Определен английский язык.\n",
      "\n",
      "\n",
      "Определен русский язык.\n",
      "\n",
      "\n",
      "Определен английский язык.\n",
      "\n",
      "\n",
      "Определен русский язык.\n",
      "\n",
      "\n",
      "Определен русский язык.\n",
      "\n",
      "\n",
      "Определен русский язык.\n",
      "\n",
      "\n",
      "Определен русский язык.\n",
      "\n",
      "\n",
      "Определен английский язык.\n",
      "\n",
      "\n",
      "Определен русский язык.\n",
      "\n",
      "\n"
     ]
    }
   ],
   "source": [
    "\n",
    "x1 = df['fulltext'].to_numpy()\n",
    "\n",
    "x = tf_idf_func(x1)\n"
   ]
  },
  {
   "cell_type": "code",
   "execution_count": 10,
   "id": "worth-recognition",
   "metadata": {
    "tags": []
   },
   "outputs": [
    {
     "name": "stdout",
     "output_type": "stream",
     "text": [
      "  (0, 13)\t0.12167644597430267\n",
      "  (0, 103)\t0.21391091691717048\n",
      "  (0, 8)\t0.21391091691717048\n",
      "  (0, 15)\t0.21391091691717048\n",
      "  (0, 3)\t0.21391091691717048\n",
      "  (0, 158)\t0.21391091691717048\n",
      "  (0, 96)\t0.24335289194860535\n",
      "  (0, 59)\t0.24335289194860535\n",
      "  (0, 190)\t0.24335289194860535\n",
      "  (0, 6)\t0.24335289194860535\n",
      "  (0, 81)\t0.4867057838972107\n",
      "  (0, 90)\t0.24335289194860535\n",
      "  (0, 125)\t0.24335289194860535\n",
      "  (0, 148)\t0.24335289194860535\n",
      "  (0, 221)\t0.24335289194860535\n",
      "  (0, 242)\t0.21391091691717048\n",
      "  (1, 219)\t0.28359493939237185\n",
      "  (1, 234)\t0.28359493939237185\n",
      "  (1, 0)\t0.322627987564778\n",
      "  (1, 168)\t0.322627987564778\n",
      "  (1, 218)\t0.28359493939237185\n",
      "  (1, 259)\t0.322627987564778\n",
      "  (1, 226)\t0.28359493939237185\n",
      "  (1, 16)\t0.322627987564778\n",
      "  (1, 211)\t0.5118011019563687\n",
      "  :\t:\n",
      "  (19, 157)\t0.23003415574027214\n",
      "  (19, 251)\t0.11501707787013607\n",
      "  (19, 257)\t0.11501707787013607\n",
      "  (19, 255)\t0.11501707787013607\n",
      "  (19, 189)\t0.23003415574027214\n",
      "  (19, 262)\t0.11501707787013607\n",
      "  (19, 245)\t0.11501707787013607\n",
      "  (19, 200)\t0.11501707787013607\n",
      "  (19, 155)\t0.11501707787013607\n",
      "  (19, 27)\t0.11501707787013607\n",
      "  (19, 72)\t0.11501707787013607\n",
      "  (19, 220)\t0.23003415574027214\n",
      "  (19, 181)\t0.11501707787013607\n",
      "  (19, 202)\t0.11501707787013607\n",
      "  (19, 195)\t0.11501707787013607\n",
      "  (19, 207)\t0.11501707787013607\n",
      "  (19, 198)\t0.11501707787013607\n",
      "  (19, 228)\t0.11501707787013607\n",
      "  (19, 209)\t0.11501707787013607\n",
      "  (19, 108)\t0.5750853893506803\n",
      "  (19, 188)\t0.23003415574027214\n",
      "  (19, 147)\t0.10110177196304079\n",
      "  (19, 223)\t0.10110177196304079\n",
      "  (19, 178)\t0.10110177196304079\n",
      "  (19, 177)\t0.2880921824663221\n"
     ]
    }
   ],
   "source": [
    "print(x)\n"
   ]
  },
  {
   "cell_type": "code",
   "execution_count": 8,
   "id": "animated-chorus",
   "metadata": {},
   "outputs": [],
   "source": [
    "#km=KMeans(n_clusters=2, random_state=1)\n",
    "#print(km.fit(x))\n",
    "#print(km.labels_.tolist())\n",
    "#print(km.transform(x))"
   ]
  }
 ],
 "metadata": {
  "kernelspec": {
   "display_name": "Python 3",
   "language": "python",
   "name": "python3"
  },
  "language_info": {
   "codemirror_mode": {
    "name": "ipython",
    "version": 3
   },
   "file_extension": ".py",
   "mimetype": "text/x-python",
   "name": "python",
   "nbconvert_exporter": "python",
   "pygments_lexer": "ipython3",
   "version": "3.8.3"
  }
 },
 "nbformat": 4,
 "nbformat_minor": 5
}
