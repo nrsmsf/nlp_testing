{
 "cells": [
  {
   "cell_type": "code",
   "execution_count": 101,
   "id": "decent-carry",
   "metadata": {},
   "outputs": [],
   "source": [
    "import re, string\n",
    "import pandas as pd\n",
    "import numpy as np\n",
    "from tokenizingnew import cleaning_and_tokenize\n",
    "from sklearn.feature_extraction.text import TfidfVectorizer\n",
    "from sklearn.cluster import KMeans\n"
   ]
  },
  {
   "cell_type": "code",
   "execution_count": 102,
   "id": "handmade-wednesday",
   "metadata": {},
   "outputs": [],
   "source": [
    "tfidf = TfidfVectorizer(preprocessor=cleaning_and_tokenize)"
   ]
  },
  {
   "cell_type": "code",
   "execution_count": 159,
   "id": "electoral-jacksonville",
   "metadata": {},
   "outputs": [
    {
     "data": {
      "text/html": [
       "<div>\n",
       "<style scoped>\n",
       "    .dataframe tbody tr th:only-of-type {\n",
       "        vertical-align: middle;\n",
       "    }\n",
       "\n",
       "    .dataframe tbody tr th {\n",
       "        vertical-align: top;\n",
       "    }\n",
       "\n",
       "    .dataframe thead th {\n",
       "        text-align: right;\n",
       "    }\n",
       "</style>\n",
       "<table border=\"1\" class=\"dataframe\">\n",
       "  <thead>\n",
       "    <tr style=\"text-align: right;\">\n",
       "      <th></th>\n",
       "      <th>corpus</th>\n",
       "    </tr>\n",
       "  </thead>\n",
       "  <tbody>\n",
       "    <tr>\n",
       "      <th>0</th>\n",
       "      <td>Коллеги, привет. Срочно нужна помощь. У меня р...</td>\n",
       "    </tr>\n",
       "    <tr>\n",
       "      <th>1</th>\n",
       "      <td>Привет, выдайте доступ к ресурсу</td>\n",
       "    </tr>\n",
       "    <tr>\n",
       "      <th>2</th>\n",
       "      <td>Привет, сломалась дверь, нужно ее починить</td>\n",
       "    </tr>\n",
       "    <tr>\n",
       "      <th>3</th>\n",
       "      <td>Добрый день, необходимо оборудовать место ноут...</td>\n",
       "    </tr>\n",
       "    <tr>\n",
       "      <th>4</th>\n",
       "      <td>Привет, сломался телефон</td>\n",
       "    </tr>\n",
       "  </tbody>\n",
       "</table>\n",
       "</div>"
      ],
      "text/plain": [
       "                                              corpus\n",
       "0  Коллеги, привет. Срочно нужна помощь. У меня р...\n",
       "1                   Привет, выдайте доступ к ресурсу\n",
       "2         Привет, сломалась дверь, нужно ее починить\n",
       "3  Добрый день, необходимо оборудовать место ноут...\n",
       "4                           Привет, сломался телефон"
      ]
     },
     "execution_count": 159,
     "metadata": {},
     "output_type": "execute_result"
    }
   ],
   "source": [
    "df = pd.DataFrame({\"corpus\": [\n",
    "\n",
    "\"Коллеги, привет. Срочно нужна помощь. У меня разломался компьютер и клавиатура\",\n",
    "\"Привет, выдайте доступ к ресурсу\",\n",
    "\"Привет, сломалась дверь, нужно ее починить\",\n",
    "\"Добрый день, необходимо оборудовать место ноутбуком\", \n",
    "\"Привет, сломался телефон\",\n",
    "]})\n",
    "\n",
    "df"
   ]
  },
  {
   "cell_type": "code",
   "execution_count": 160,
   "id": "handled-joining",
   "metadata": {},
   "outputs": [
    {
     "name": "stdout",
     "output_type": "stream",
     "text": [
      "Определен русский язык.\n",
      "\n",
      "\n",
      "Определен русский язык.\n",
      "\n",
      "\n",
      "Определен русский язык.\n",
      "\n",
      "\n",
      "Определен русский язык.\n",
      "\n",
      "\n",
      "Определен русский язык.\n",
      "\n",
      "\n",
      "[[0.         0.         0.         0.42066906 0.42066906 0.\n",
      "  0.         0.         0.33939315 0.         0.42066906 0.\n",
      "  0.42066906 0.         0.         0.42066906 0.        ]\n",
      " [0.57735027 0.         0.57735027 0.         0.         0.\n",
      "  0.         0.         0.         0.         0.         0.\n",
      "  0.         0.57735027 0.         0.         0.        ]\n",
      " [0.         0.55032913 0.         0.         0.         0.\n",
      "  0.         0.         0.44400208 0.         0.         0.55032913\n",
      "  0.         0.         0.44400208 0.         0.        ]\n",
      " [0.         0.         0.         0.         0.         0.5\n",
      "  0.5        0.5        0.         0.5        0.         0.\n",
      "  0.         0.         0.         0.         0.        ]\n",
      " [0.         0.         0.         0.         0.         0.\n",
      "  0.         0.         0.         0.         0.         0.\n",
      "  0.         0.         0.62791376 0.         0.77828292]]\n"
     ]
    }
   ],
   "source": [
    "response = tfidf.fit_transform(df.corpus)\n",
    "print(response.todense())\n"
   ]
  },
  {
   "cell_type": "code",
   "execution_count": 161,
   "id": "perceived-medicaid",
   "metadata": {},
   "outputs": [
    {
     "data": {
      "text/plain": [
       "{'срочно': 15,\n",
       " 'нужный': 8,\n",
       " 'помощь': 10,\n",
       " 'разломаться': 12,\n",
       " 'компьютер': 4,\n",
       " 'клавиатура': 3,\n",
       " 'выдать': 0,\n",
       " 'доступ': 2,\n",
       " 'ресурс': 13,\n",
       " 'сломаться': 14,\n",
       " 'дверь': 1,\n",
       " 'починить': 11,\n",
       " 'необходимый': 6,\n",
       " 'оборудовать': 9,\n",
       " 'место': 5,\n",
       " 'ноутбук': 7,\n",
       " 'телефон': 16}"
      ]
     },
     "execution_count": 161,
     "metadata": {},
     "output_type": "execute_result"
    }
   ],
   "source": [
    "tfidf.vocabulary_"
   ]
  },
  {
   "cell_type": "code",
   "execution_count": 162,
   "id": "stable-occasions",
   "metadata": {},
   "outputs": [
    {
     "name": "stdout",
     "output_type": "stream",
     "text": [
      "  (0, 3)\t0.4206690600631704\n",
      "  (0, 4)\t0.4206690600631704\n",
      "  (0, 12)\t0.4206690600631704\n",
      "  (0, 10)\t0.4206690600631704\n",
      "  (0, 8)\t0.3393931489111758\n",
      "  (0, 15)\t0.4206690600631704\n",
      "  (1, 13)\t0.5773502691896258\n",
      "  (1, 2)\t0.5773502691896258\n",
      "  (1, 0)\t0.5773502691896258\n",
      "  (2, 11)\t0.5503291323968319\n",
      "  (2, 1)\t0.5503291323968319\n",
      "  (2, 14)\t0.44400207886377085\n",
      "  (2, 8)\t0.44400207886377085\n",
      "  (3, 7)\t0.5\n",
      "  (3, 5)\t0.5\n",
      "  (3, 9)\t0.5\n",
      "  (3, 6)\t0.5\n",
      "  (4, 16)\t0.7782829228046183\n",
      "  (4, 14)\t0.6279137616509933\n",
      "['выдать', 'дверь', 'доступ', 'клавиатура', 'компьютер', 'место', 'необходимый', 'ноутбук', 'нужный', 'оборудовать', 'помощь', 'починить', 'разломаться', 'ресурс', 'сломаться', 'срочно', 'телефон']\n"
     ]
    }
   ],
   "source": [
    "print(response)\n",
    "\n",
    "print(tfidf.get_feature_names())"
   ]
  },
  {
   "cell_type": "code",
   "execution_count": 163,
   "id": "transparent-mouse",
   "metadata": {},
   "outputs": [],
   "source": [
    "km=KMeans(n_clusters=2)\n"
   ]
  },
  {
   "cell_type": "code",
   "execution_count": 164,
   "id": "rapid-initial",
   "metadata": {},
   "outputs": [],
   "source": [
    "#vector1 = response.todense()[0]\n",
    "#vector2 = response.todense()[1]\n",
    "#print(vector1)\n",
    "#print(vector2)\n",
    "\n",
    "#vectors_for_kmeans = float(np.dot(vector1, vector2.T))\n",
    "\n",
    "#print(vectors_for_kmeans)"
   ]
  },
  {
   "cell_type": "code",
   "execution_count": 165,
   "id": "figured-topic",
   "metadata": {},
   "outputs": [
    {
     "data": {
      "text/plain": [
       "KMeans(n_clusters=2)"
      ]
     },
     "execution_count": 165,
     "metadata": {},
     "output_type": "execute_result"
    }
   ],
   "source": [
    "km.fit(response)"
   ]
  },
  {
   "cell_type": "code",
   "execution_count": 166,
   "id": "neither-cleanup",
   "metadata": {},
   "outputs": [
    {
     "data": {
      "text/plain": [
       "[1, 0, 1, 0, 1]"
      ]
     },
     "execution_count": 166,
     "metadata": {},
     "output_type": "execute_result"
    }
   ],
   "source": [
    "km.labels_.tolist()"
   ]
  },
  {
   "cell_type": "code",
   "execution_count": null,
   "id": "handy-paragraph",
   "metadata": {},
   "outputs": [],
   "source": []
  }
 ],
 "metadata": {
  "kernelspec": {
   "display_name": "Python 3",
   "language": "python",
   "name": "python3"
  },
  "language_info": {
   "codemirror_mode": {
    "name": "ipython",
    "version": 3
   },
   "file_extension": ".py",
   "mimetype": "text/x-python",
   "name": "python",
   "nbconvert_exporter": "python",
   "pygments_lexer": "ipython3",
   "version": "3.8.3"
  }
 },
 "nbformat": 4,
 "nbformat_minor": 5
}
