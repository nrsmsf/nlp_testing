{
 "cells": [
  {
   "cell_type": "code",
   "execution_count": 80,
   "id": "complicated-generator",
   "metadata": {},
   "outputs": [],
   "source": [
    "import re, nltk\n",
    "from nltk.corpus import stopwords\n",
    "from nltk.tokenize import word_tokenize, sent_tokenize\n",
    "from nltk.stem import WordNetLemmatizer\n",
    "# importing Counter to get word counts for bag of words\n",
    "from collections import Counter\n",
    "import sys\n",
    "import spacy\n",
    "\n",
    "#  spaCy's  'ru' Model is ru_core_news_sm\n"
   ]
  },
  {
   "cell_type": "code",
   "execution_count": 100,
   "id": "hairy-fitting",
   "metadata": {},
   "outputs": [
    {
     "name": "stdout",
     "output_type": "stream",
     "text": [
      "<class 'str'>\n",
      "коллеги еще раз всем привет и даже большой привет рад всех приветствовать как ваши дела а у меня компьютер сломался\n",
      "\n"
     ]
    }
   ],
   "source": [
    "text = (\"Коллеги, еще раз всем привет и даже большой привет! Рад всех приветствовать! Как ваши дела? А у меня компьютер сломался\")\n",
    "\n",
    "cleaned = re.sub('\\W+', ' ', text).lower()\n",
    "\n",
    "print(type(cleaned) )\n",
    "print(cleaned + \"\\n\")"
   ]
  },
  {
   "cell_type": "code",
   "execution_count": 101,
   "id": "departmental-judges",
   "metadata": {},
   "outputs": [
    {
     "name": "stdout",
     "output_type": "stream",
     "text": [
      "<class 'list'>\n",
      "['коллега', 'еще', 'раз', 'всем', 'привет', 'и', 'даже', 'большой', 'привет', 'рад', 'всех', 'приветствовать', 'как', 'ваш', 'дело', 'а', 'у', 'меня', 'компьютер', 'сломаться']\n"
     ]
    }
   ],
   "source": [
    "#    tokenizing without lemmatazing\n",
    "#tokenized = word_tokenize(cleaned)\n",
    "#print(type(cleaned))\n",
    "\n",
    "#tokenizing with lemmatizing\n",
    "# Initialize spacy 'ru' model, keeping only tagger component needed for lemmatization\n",
    "nlp = spacy.load('ru_core_news_sm', disable=['parser', 'ner'])\n",
    "# Parse the sentence using the loaded 'ru' model object `nlp`\n",
    "doc = nlp(cleaned)\n",
    "# Extract the lemma for each token \n",
    "\n",
    "tokenized_and_lemmatized = ([token.lemma_ for token in doc])\n",
    "print(type(tokenized_and_lemmatized))\n",
    "print(tokenized_and_lemmatized)"
   ]
  },
  {
   "cell_type": "code",
   "execution_count": 103,
   "id": "broken-manchester",
   "metadata": {},
   "outputs": [
    {
     "name": "stdout",
     "output_type": "stream",
     "text": [
      "Counter({'еще': 1, 'раз': 1, 'всем': 1, 'как': 1, 'ваши': 1, 'дела': 1, 'мои': 1, 'нормально': 1, 'а': 1, 'у': 1, 'меня': 1, 'компьютер': 1, 'сломался': 1})\n",
      "['еще', 'раз', 'всем', 'как', 'ваши', 'дела', 'мои', 'нормально', 'а', 'у', 'меня', 'компьютер', 'сломался']\n",
      "\n",
      "\n",
      "Counter({'еще': 1, 'раз': 1, 'всем': 1, 'как': 1, 'ваши': 1, 'дела': 1, 'мои': 1, 'нормально': 1, 'а': 1, 'у': 1, 'меня': 1, 'компьютер': 1, 'сломался': 1})\n"
     ]
    }
   ],
   "source": [
    "#Making bag of words\n",
    "bag_of_words_not_filtered = Counter(filtered)\n",
    "print (bag_of_words_not_filtered)\n",
    "# cleaning stop words and some additional\n",
    "stop_words = [stopwords.words('russian'), \"привет\", \"коллеги\"]\n",
    "filtered = [word for word in tokenized if word not in stop_words]\n",
    "print(filtered )\n",
    "print(\"\\n\")\n",
    "\n",
    "#Making bag of words for filtered\n",
    "bag_of_words_filtered = Counter(filtered)\n",
    "print (bag_of_words_filtered)\n"
   ]
  }
 ],
 "metadata": {
  "kernelspec": {
   "display_name": "Python 3",
   "language": "python",
   "name": "python3"
  },
  "language_info": {
   "codemirror_mode": {
    "name": "ipython",
    "version": 3
   },
   "file_extension": ".py",
   "mimetype": "text/x-python",
   "name": "python",
   "nbconvert_exporter": "python",
   "pygments_lexer": "ipython3",
   "version": "3.8.3"
  }
 },
 "nbformat": 4,
 "nbformat_minor": 5
}
